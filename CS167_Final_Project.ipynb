{
  "nbformat": 4,
  "nbformat_minor": 0,
  "metadata": {
    "colab": {
      "provenance": [],
      "authorship_tag": "ABX9TyPwS68kgrG4MhB3i7PJDdBj",
      "include_colab_link": true
    },
    "kernelspec": {
      "name": "python3",
      "display_name": "Python 3"
    },
    "language_info": {
      "name": "python"
    },
    "accelerator": "GPU",
    "gpuClass": "standard"
  },
  "cells": [
    {
      "cell_type": "markdown",
      "metadata": {
        "id": "view-in-github",
        "colab_type": "text"
      },
      "source": [
        "<a href=\"https://colab.research.google.com/github/alexbakercan/CS167Fall22Project2/blob/main/CS167_Final_Project.ipynb\" target=\"_parent\"><img src=\"https://colab.research.google.com/assets/colab-badge.svg\" alt=\"Open In Colab\"/></a>"
      ]
    },
    {
      "cell_type": "markdown",
      "source": [
        "# Project #2\n",
        "#### Grimas and Thanos Classification Convolutional Neural Networks\n",
        "#### Name: Alex Baker "
      ],
      "metadata": {
        "id": "EEjOZXwNtYYE"
      }
    },
    {
      "cell_type": "markdown",
      "source": [
        "# Rubric and Grading\n",
        "\n",
        "\n",
        "\n",
        "| **Description/Writing**  |**I think I deserve** |**Actual Grade**|**Notes** |\n",
        "| :------------------------------- | -------: | ----: |:---- |\n",
        "| 1: Problem                       |        2/2|       /2|    |\n",
        "| 2: Data Prep                     |        2/2|       /2|    | \n",
        "| 3: Research                      |       9.5/10|      /10|    |\n",
        "| 4: Analysis                      |       9.5/10|      /10|    | \n",
        "| 5: Bumps in the Road.            |        1/1|       /1|    |\n",
        "| <b>Total                         |       24/25|      /25|    </b>|"
      ],
      "metadata": {
        "id": "gUc0Vh0kL0oQ"
      }
    },
    {
      "cell_type": "markdown",
      "source": [
        "I beleive I deserve the grade above because I have met all of the requirements. This project covers all bases, anaylizing CNN and its application well. I did not want to give myself a perfect score because there is always room for improvement. If given more time I would hopefully find a model with better preformance and I can alaways go deeper with anaylisis so I did not give full points in those categories. Despite this I still have 4 models in total and robust anaylisis so I belive a 24/25 is an accurate grade."
      ],
      "metadata": {
        "id": "b8Rlsv1FJ1rH"
      }
    },
    {
      "cell_type": "markdown",
      "source": [
        "## Problem\n",
        "\n",
        "With the data set I selected I am attempteting to deterime weather an inputted image is one of two things: thanos or grimace. As a result this is a classification problem and I am using convolutional neural networks to solve it. For the data set I am using, I found it on kaggle. It has the name \n",
        "' Thanos or Grimace:\n",
        "Images used to train and evaluate a CNN-based model ' \n",
        "by ARTURO MONCADA TORRES. It has a usability score of 8.13 and contains 462 images of both characters. After looking at the options for this project I was most inclined to use the CNN, mostly because the first option was too similar to the last project and I was more familiar with proccesing images rather than audio. I found many different potenial datasets, most of which would have ended in the same result. The only big difference being how many differnt things being classified. Due to this I decided to try somthing a little more fun and when I came upon this dataset I knew I had to use it. \n",
        "\n",
        "## Data Preparation \n",
        "\n",
        "I did not choose to use the given simpsons data set and as a result had to prepare my data before even uploading it to colab. It did not have designated test and train split folders within the file when I downloaded and unzipped it. To remedy this I created a new set of folders set up the proepr way with train/test folders and characters deliminated within. From there I mannually went through and transfered the images to the respective folders with ending in a 24% test/train split. Now that I had my data ready I was ready to go into colab and did the ussal preperation. This includes enabeling the GPU, importing the proper liabraries, setting directories and dimensions, and finally loading the data. Now that I have completed all nessisary preperation work I am confident that I am ready to work with my data. \n",
        "\n"
      ],
      "metadata": {
        "id": "Mjmwo3sjgXVP"
      }
    },
    {
      "cell_type": "markdown",
      "source": [
        "### Enable GPUs!!\n"
      ],
      "metadata": {
        "id": "HbwKLNhzP8YO"
      }
    },
    {
      "cell_type": "code",
      "execution_count": 2,
      "metadata": {
        "id": "G9KOIwg3PPy8",
        "colab": {
          "base_uri": "https://localhost:8080/"
        },
        "outputId": "88a60e25-c862-4211-ed11-6fdf42b6e841"
      },
      "outputs": [
        {
          "output_type": "stream",
          "name": "stdout",
          "text": [
            "Mounted at /content/drive\n"
          ]
        }
      ],
      "source": [
        "from google.colab import drive\n",
        "import pandas\n",
        "drive.mount('/content/drive')"
      ]
    },
    {
      "cell_type": "code",
      "source": [
        "import tensorflow as tf\n",
        "device_name = tf.test.gpu_device_name()\n",
        "if device_name != '/device:GPU:0':\n",
        "  raise SystemError('GPU device not found')\n",
        "print('Found GPU at: {}'.format(device_name))"
      ],
      "metadata": {
        "id": "UcchfrTUP-jX",
        "colab": {
          "base_uri": "https://localhost:8080/"
        },
        "outputId": "6d98e4cf-6394-4865-d2fb-07f575d63891"
      },
      "execution_count": 3,
      "outputs": [
        {
          "output_type": "stream",
          "name": "stdout",
          "text": [
            "Found GPU at: /device:GPU:0\n"
          ]
        }
      ]
    },
    {
      "cell_type": "code",
      "source": [
        "import keras\n",
        "import tensorflow as tf\n",
        "print (\"TensorFlow version: \" + tf.__version__)\n",
        "print (\"Keras version: \" + keras.__version__)"
      ],
      "metadata": {
        "id": "Xc3xC0ahQBxH",
        "colab": {
          "base_uri": "https://localhost:8080/"
        },
        "outputId": "bd0c7eda-0dd3-4c30-9efe-39aab107b3cb"
      },
      "execution_count": 4,
      "outputs": [
        {
          "output_type": "stream",
          "name": "stdout",
          "text": [
            "TensorFlow version: 2.9.2\n",
            "Keras version: 2.9.0\n"
          ]
        }
      ]
    },
    {
      "cell_type": "code",
      "source": [
        "#ignore warnings\n",
        "import warnings\n",
        "warnings.filterwarnings('ignore')"
      ],
      "metadata": {
        "id": "45KHxpMVQNL2"
      },
      "execution_count": 5,
      "outputs": []
    },
    {
      "cell_type": "code",
      "source": [
        "# import the libraries\n",
        "import keras\n",
        "import sys\n",
        "from matplotlib import pyplot\n",
        "from keras.models import Sequential\n",
        "from keras.layers import Conv2D\n",
        "from keras.layers import MaxPooling2D\n",
        "from keras.layers import Dense\n",
        "from keras.layers import Flatten\n",
        "from keras.preprocessing.image import ImageDataGenerator\n",
        "import sys"
      ],
      "metadata": {
        "id": "RzImK38UQPQ6"
      },
      "execution_count": 6,
      "outputs": []
    },
    {
      "cell_type": "code",
      "source": [
        "# dimensions of our images.\n",
        "img_width = 64\n",
        "img_height = 64\n",
        "\n",
        "#the directories where our train and test data is\n",
        "train_data_dir = '/content/drive/MyDrive/CS167Datasets/grimos/Train' \n",
        "test_data_dir = '/content/drive/MyDrive/CS167Datasets/grimos/Test'   \n",
        "\n",
        "#we will feed the training images to the neural network\n",
        "#in batches of 32 images at a time so we don't have \n",
        "#to load the entire data set into memory\n",
        "batch_size = 32"
      ],
      "metadata": {
        "id": "EkCPhZYmPZNR"
      },
      "execution_count": 7,
      "outputs": []
    },
    {
      "cell_type": "markdown",
      "source": [
        "# Load the data\n"
      ],
      "metadata": {
        "id": "qR_foVOeQVL7"
      }
    },
    {
      "cell_type": "code",
      "source": [
        "# used to rescale the pixel values from [0, 255] to between 0 and 1\n",
        "datagen = ImageDataGenerator(rescale=1.0/255.0)\n",
        "\n",
        "#These will look for our training and testing data\n",
        "train_data = datagen.flow_from_directory(\n",
        "        train_data_dir,\n",
        "        target_size=(img_width, img_height),\n",
        "        batch_size=batch_size,\n",
        "        class_mode='binary') \n",
        "\n",
        "test_data = datagen.flow_from_directory(\n",
        "        test_data_dir,\n",
        "        target_size=(img_width, img_height),\n",
        "        batch_size=batch_size,\n",
        "        class_mode='binary')"
      ],
      "metadata": {
        "id": "Q22NNOOQQZH5",
        "colab": {
          "base_uri": "https://localhost:8080/"
        },
        "outputId": "a5f655c8-7ef2-4d8d-c3b9-3ac629d263ad"
      },
      "execution_count": 8,
      "outputs": [
        {
          "output_type": "stream",
          "name": "stdout",
          "text": [
            "Found 366 images belonging to 2 classes.\n",
            "Found 89 images belonging to 2 classes.\n"
          ]
        }
      ]
    },
    {
      "cell_type": "markdown",
      "source": [
        "24% test split^^"
      ],
      "metadata": {
        "id": "sJ4GkogRwzI0"
      }
    },
    {
      "cell_type": "markdown",
      "source": [
        "# Convolutional Neural Network (CNN) "
      ],
      "metadata": {
        "id": "OdTrVADWx_CQ"
      }
    },
    {
      "cell_type": "code",
      "source": [
        "model = Sequential()\n",
        "model.add(Conv2D(32, (3, 3), activation = 'relu', input_shape=(img_width, img_height, 3)))\n",
        "model.add(MaxPooling2D(pool_size = (2,2)))\n",
        "\n",
        "model.add(Conv2D(32, (3, 3), activation = 'relu', input_shape=(img_width, img_height, 3)))\n",
        "model.add(MaxPooling2D(pool_size = (2,2)))\n",
        "\n",
        "\n",
        "model.add(Flatten()) \n",
        "model.add(Dense(32)) \n",
        "model.add(Dense(1,activation='sigmoid'))\n",
        "\n",
        "model.compile(optimizer=\"sgd\", loss='binary_crossentropy', metrics=['accuracy']) \n"
      ],
      "metadata": {
        "id": "RGpChqQwQgYO"
      },
      "execution_count": 16,
      "outputs": []
    },
    {
      "cell_type": "code",
      "source": [
        "training_results = model.fit_generator(\n",
        "        train_data, \n",
        "        steps_per_epoch = len(train_data), \n",
        "        epochs=9, #epochs \n",
        "        validation_data = test_data, \n",
        "        validation_steps = len(test_data)\n",
        "        )"
      ],
      "metadata": {
        "colab": {
          "base_uri": "https://localhost:8080/"
        },
        "id": "2phK1hPFxnsa",
        "outputId": "eb912b2c-e8fe-4add-862d-f18ad6ed0884"
      },
      "execution_count": 17,
      "outputs": [
        {
          "output_type": "stream",
          "name": "stdout",
          "text": [
            "Epoch 1/9\n",
            "12/12 [==============================] - 2s 122ms/step - loss: 0.6954 - accuracy: 0.5355 - val_loss: 0.6851 - val_accuracy: 0.5618\n",
            "Epoch 2/9\n",
            "12/12 [==============================] - 1s 101ms/step - loss: 0.6796 - accuracy: 0.5902 - val_loss: 0.6595 - val_accuracy: 0.6742\n",
            "Epoch 3/9\n",
            "12/12 [==============================] - 1s 108ms/step - loss: 0.6551 - accuracy: 0.6721 - val_loss: 0.6419 - val_accuracy: 0.6742\n",
            "Epoch 4/9\n",
            "12/12 [==============================] - 1s 109ms/step - loss: 0.6359 - accuracy: 0.7186 - val_loss: 0.6206 - val_accuracy: 0.6854\n",
            "Epoch 5/9\n",
            "12/12 [==============================] - 1s 108ms/step - loss: 0.6095 - accuracy: 0.7377 - val_loss: 0.5962 - val_accuracy: 0.7640\n",
            "Epoch 6/9\n",
            "12/12 [==============================] - 1s 104ms/step - loss: 0.5757 - accuracy: 0.7650 - val_loss: 0.5558 - val_accuracy: 0.8202\n",
            "Epoch 7/9\n",
            "12/12 [==============================] - 1s 110ms/step - loss: 0.5489 - accuracy: 0.7568 - val_loss: 0.5365 - val_accuracy: 0.7191\n",
            "Epoch 8/9\n",
            "12/12 [==============================] - 1s 106ms/step - loss: 0.5235 - accuracy: 0.7923 - val_loss: 0.5011 - val_accuracy: 0.7640\n",
            "Epoch 9/9\n",
            "12/12 [==============================] - 1s 104ms/step - loss: 0.4742 - accuracy: 0.7951 - val_loss: 0.4418 - val_accuracy: 0.8764\n"
          ]
        }
      ]
    },
    {
      "cell_type": "code",
      "source": [
        "import matplotlib.pyplot as plt\n",
        "%matplotlib inline\n",
        "plt.plot(training_results.history['accuracy'])\n",
        "plt.plot(training_results.history['val_accuracy'])\n",
        "plt.title('model accuracy')\n",
        "plt.ylabel('accuracy')\n",
        "plt.xlabel('epoch')\n",
        "plt.legend(['train', 'test'], loc='upper left')\n",
        "plt.show()"
      ],
      "metadata": {
        "colab": {
          "base_uri": "https://localhost:8080/",
          "height": 295
        },
        "id": "wIdt_bMoMLtM",
        "outputId": "e69f5059-24e5-481a-f91d-e8e7a2c9fdae"
      },
      "execution_count": 18,
      "outputs": [
        {
          "output_type": "display_data",
          "data": {
            "text/plain": [
              "<Figure size 432x288 with 1 Axes>"
            ],
            "image/png": "[encoded data removed]"
          },
          "metadata": {
            "needs_background": "light"
          }
        }
      ]
    },
    {
      "cell_type": "markdown",
      "source": [
        "# Tuned CNN\n"
      ],
      "metadata": {
        "id": "-fDldoO9z6Fd"
      }
    },
    {
      "cell_type": "markdown",
      "source": [
        "This model includes a dropout layer at the begining followed by a layer with width of 128. Keeping the amount of layers down aided in preformance along with the other alterations made. Running the model multiple times showed it to consistently preform better, espeiclally the training line. It was a little inconsistent but overall outpreformed the original."
      ],
      "metadata": {
        "id": "cQOEg-x91qb9"
      }
    },
    {
      "cell_type": "code",
      "source": [
        "from keras.layers import Dropout\n",
        "\n",
        "model = Sequential()\n",
        "\n",
        "model.add(Conv2D(32, (3, 3), activation = 'relu', input_shape=(img_width, img_height, 3)))\n",
        "model.add(Dropout(0.2, (32,)))\n",
        "\n",
        "model.add(Conv2D(128, (3, 3), activation = 'relu', input_shape=(img_width, img_height, 3)))\n",
        "model.add(MaxPooling2D(pool_size = (2,2)))\n",
        "\n",
        "\n",
        "model.add(Flatten()) \n",
        "model.add(Dense(128)) \n",
        "model.add(Dense(1,activation='sigmoid'))\n",
        "\n",
        "model.compile(optimizer=\"sgd\", loss='binary_crossentropy', metrics=['accuracy']) "
      ],
      "metadata": {
        "id": "kZDWXpls6IaK"
      },
      "execution_count": 27,
      "outputs": []
    },
    {
      "cell_type": "code",
      "source": [
        "training_results = model.fit_generator(\n",
        "        train_data, \n",
        "        steps_per_epoch = len(train_data), \n",
        "        epochs=9, #epochs \n",
        "        validation_data = test_data, \n",
        "        validation_steps = len(test_data)\n",
        "        )"
      ],
      "metadata": {
        "colab": {
          "base_uri": "https://localhost:8080/"
        },
        "id": "q88eXKrE6MD4",
        "outputId": "0a67d78b-9d91-485d-91d0-d83b87546939"
      },
      "execution_count": 28,
      "outputs": [
        {
          "output_type": "stream",
          "name": "stdout",
          "text": [
            "Epoch 1/9\n",
            "12/12 [==============================] - 2s 114ms/step - loss: 0.8528 - accuracy: 0.5683 - val_loss: 0.6659 - val_accuracy: 0.5455\n",
            "Epoch 2/9\n",
            "12/12 [==============================] - 1s 98ms/step - loss: 0.6018 - accuracy: 0.7322 - val_loss: 0.5482 - val_accuracy: 0.7841\n",
            "Epoch 3/9\n",
            "12/12 [==============================] - 1s 94ms/step - loss: 0.5685 - accuracy: 0.7623 - val_loss: 0.5321 - val_accuracy: 0.7045\n",
            "Epoch 4/9\n",
            "12/12 [==============================] - 1s 95ms/step - loss: 0.5496 - accuracy: 0.7404 - val_loss: 0.4315 - val_accuracy: 0.8977\n",
            "Epoch 5/9\n",
            "12/12 [==============================] - 1s 99ms/step - loss: 0.4479 - accuracy: 0.8415 - val_loss: 0.3598 - val_accuracy: 0.9205\n",
            "Epoch 6/9\n",
            "12/12 [==============================] - 2s 160ms/step - loss: 0.4386 - accuracy: 0.8115 - val_loss: 0.3227 - val_accuracy: 0.9205\n",
            "Epoch 7/9\n",
            "12/12 [==============================] - 1s 94ms/step - loss: 0.4162 - accuracy: 0.8197 - val_loss: 0.3281 - val_accuracy: 0.8977\n",
            "Epoch 8/9\n",
            "12/12 [==============================] - 2s 130ms/step - loss: 0.3471 - accuracy: 0.8743 - val_loss: 0.2673 - val_accuracy: 0.9318\n",
            "Epoch 9/9\n",
            "12/12 [==============================] - 1s 116ms/step - loss: 0.3431 - accuracy: 0.8579 - val_loss: 0.2337 - val_accuracy: 0.9318\n"
          ]
        }
      ]
    },
    {
      "cell_type": "code",
      "source": [
        "import matplotlib.pyplot as plt\n",
        "%matplotlib inline\n",
        "plt.plot(training_results.history['accuracy'])\n",
        "plt.plot(training_results.history['val_accuracy'])\n",
        "plt.title('model accuracy')\n",
        "plt.ylabel('accuracy')\n",
        "plt.xlabel('epoch')\n",
        "plt.legend(['train', 'test'], loc='upper left')\n",
        "plt.show()"
      ],
      "metadata": {
        "colab": {
          "base_uri": "https://localhost:8080/",
          "height": 295
        },
        "id": "7NfvpRIm6Ovj",
        "outputId": "ebaf7acf-a625-4055-d1d4-597d424bd47a"
      },
      "execution_count": 29,
      "outputs": [
        {
          "output_type": "display_data",
          "data": {
            "text/plain": [
              "<Figure size 432x288 with 1 Axes>"
            ],
            "image/png": "[encoded data removed]"
          },
          "metadata": {
            "needs_background": "light"
          }
        }
      ]
    },
    {
      "cell_type": "markdown",
      "source": [
        "# 2nd Tuned Model \n"
      ],
      "metadata": {
        "id": "0ssmvTuZ9TB7"
      }
    },
    {
      "cell_type": "markdown",
      "source": [
        "In running and tuning this model I wanted to experiment with the amount of layers present as well as the order they are in mostly moving the dropout layers. Running a model with more layers proved very difficult to get good preformance. If I added anymore than the one dropout layers than profemance tanked. This makes sense as it reduces too much and cannot accruatly preform. With three other pooling layers I was able to get decent preformance but still seemed to be worse than the original. Even if not better, I still took away a lot from this model and was able to test the effects of layering well. "
      ],
      "metadata": {
        "id": "xB-fZZ-J2qqw"
      }
    },
    {
      "cell_type": "code",
      "source": [
        "from keras.layers import Dropout\n",
        "\n",
        "model = Sequential()\n",
        "\n",
        "model.add(Conv2D(32, (3, 3), activation = 'relu', input_shape=(img_width, img_height, 3)))\n",
        "model.add(MaxPooling2D(pool_size = (2,2)))\n",
        "\n",
        "\n",
        "\n",
        "model.add(Conv2D(32, (3, 3), activation = 'relu', input_shape=(img_width, img_height, 3)))\n",
        "model.add(MaxPooling2D(pool_size = (2,2)))\n",
        "\n",
        "\n",
        "model.add(Conv2D(32, (3, 3), activation = 'relu', input_shape=(img_width, img_height, 3)))\n",
        "model.add(MaxPooling2D(pool_size = (2,2)))\n",
        "\n",
        "\n",
        "model.add(Conv2D(32, (3, 3), activation = 'relu', input_shape=(img_width, img_height, 3)))\n",
        "model.add(Dropout(0.2, (32,)))\n",
        "\n",
        "\n",
        "\n",
        "model.add(Flatten()) \n",
        "model.add(Dense(32)) \n",
        "model.add(Dense(1,activation='sigmoid'))\n",
        "\n",
        "model.compile(optimizer=\"sgd\", loss='binary_crossentropy', metrics=['accuracy']) "
      ],
      "metadata": {
        "id": "fNmgV7uN9d36"
      },
      "execution_count": 39,
      "outputs": []
    },
    {
      "cell_type": "code",
      "source": [
        "training_results = model.fit_generator(\n",
        "        train_data, \n",
        "        steps_per_epoch = len(train_data), \n",
        "        epochs=9, #epochs \n",
        "        validation_data = test_data, \n",
        "        validation_steps = len(test_data)\n",
        "        )"
      ],
      "metadata": {
        "colab": {
          "base_uri": "https://localhost:8080/"
        },
        "id": "pQY4z-XP9iSm",
        "outputId": "a9fde1ee-9262-4921-96e3-3d0d46c74353"
      },
      "execution_count": 40,
      "outputs": [
        {
          "output_type": "stream",
          "name": "stdout",
          "text": [
            "Epoch 1/9\n",
            "12/12 [==============================] - 2s 162ms/step - loss: 0.7006 - accuracy: 0.4563 - val_loss: 0.6929 - val_accuracy: 0.5455\n",
            "Epoch 2/9\n",
            "12/12 [==============================] - 1s 94ms/step - loss: 0.6861 - accuracy: 0.5628 - val_loss: 0.6859 - val_accuracy: 0.5455\n",
            "Epoch 3/9\n",
            "12/12 [==============================] - 1s 92ms/step - loss: 0.6787 - accuracy: 0.5820 - val_loss: 0.6793 - val_accuracy: 0.5455\n",
            "Epoch 4/9\n",
            "12/12 [==============================] - 1s 98ms/step - loss: 0.6722 - accuracy: 0.5683 - val_loss: 0.6729 - val_accuracy: 0.5568\n",
            "Epoch 5/9\n",
            "12/12 [==============================] - 1s 91ms/step - loss: 0.6658 - accuracy: 0.5902 - val_loss: 0.6659 - val_accuracy: 0.5795\n",
            "Epoch 6/9\n",
            "12/12 [==============================] - 1s 94ms/step - loss: 0.6658 - accuracy: 0.6339 - val_loss: 0.6597 - val_accuracy: 0.5682\n",
            "Epoch 7/9\n",
            "12/12 [==============================] - 1s 95ms/step - loss: 0.6598 - accuracy: 0.6066 - val_loss: 0.6503 - val_accuracy: 0.6818\n",
            "Epoch 8/9\n",
            "12/12 [==============================] - 1s 94ms/step - loss: 0.6448 - accuracy: 0.6311 - val_loss: 0.6389 - val_accuracy: 0.7159\n",
            "Epoch 9/9\n",
            "12/12 [==============================] - 1s 89ms/step - loss: 0.6426 - accuracy: 0.6831 - val_loss: 0.6270 - val_accuracy: 0.7045\n"
          ]
        }
      ]
    },
    {
      "cell_type": "code",
      "source": [
        "import matplotlib.pyplot as plt\n",
        "%matplotlib inline\n",
        "plt.plot(training_results.history['accuracy'])\n",
        "plt.plot(training_results.history['val_accuracy'])\n",
        "plt.title('model accuracy')\n",
        "plt.ylabel('accuracy')\n",
        "plt.xlabel('epoch')\n",
        "plt.legend(['train', 'test'], loc='upper left')\n",
        "plt.show()"
      ],
      "metadata": {
        "colab": {
          "base_uri": "https://localhost:8080/",
          "height": 295
        },
        "id": "vFzvNP7Z9l4U",
        "outputId": "2689c74e-3419-4fcd-8fab-1944129a9710"
      },
      "execution_count": 41,
      "outputs": [
        {
          "output_type": "display_data",
          "data": {
            "text/plain": [
              "<Figure size 432x288 with 1 Axes>"
            ],
            "image/png": "[encoded data removed]"
          },
          "metadata": {
            "needs_background": "light"
          }
        }
      ]
    },
    {
      "cell_type": "markdown",
      "source": [
        "# 3rd Tuned Model"
      ],
      "metadata": {
        "id": "eRVOUTz56aiV"
      }
    },
    {
      "cell_type": "markdown",
      "source": [
        "With this model being the last I wanted to include the most robust testing and try out as many differnt alterations to see how it would effect things. Surprisingly most of the time I could not get results that were better than the original. It proved to be a little inconsistent when I ran them multiple times but generally was not the results I was looking for. In my testing I tried the following things: \n",
        "- Messed with differing kernal sizes going all the way up to (18,18)\n",
        "- Changing number of layers both high and low\n",
        "- Messing with the order and number of each type of layer \n",
        "- Changing the pooling size \n",
        "- Altering the layer width \n",
        "\n",
        "The layer width is the point at which I finnally began to get better preformance. I was brainstorming solutions and thought that by decreasing the width of a layer and increasing the depth could prove advantageous. Even though it was a large reduction I hoped by compesating in the depth of layers would even it out. Intially I had too many layers, and as discovered above, this didnt yeild great preformance. I reduced it down some and found 3 layers to be best. Even thought it was a little inconsistent I found a model that yeilds better preofrmance. This one includes the dropout layer first with each layer only having a width of 8. This model gave me the most insight into CNN's and the way that they function and can be manipulated. "
      ],
      "metadata": {
        "id": "jExYsgAy4N6n"
      }
    },
    {
      "cell_type": "code",
      "source": [
        "from keras.layers import Dropout\n",
        "\n",
        "model = Sequential()\n",
        "\n",
        "\n",
        "model.add(Conv2D(8, (2, 2), activation = 'relu', input_shape=(img_width, img_height, 3)))\n",
        "model.add(Dropout(0.2, (8,)))\n",
        "\n",
        "model.add(Conv2D(8, (2, 2), activation = 'relu', input_shape=(img_width, img_height, 3)))\n",
        "model.add(MaxPooling2D(pool_size = (1,1)))\n",
        "\n",
        "model.add(Conv2D(8, (2, 2), activation = 'relu', input_shape=(img_width, img_height, 3)))\n",
        "model.add(MaxPooling2D(pool_size = (1,1)))\n",
        "\n",
        "\n",
        "\n",
        "model.add(Flatten()) \n",
        "model.add(Dense(32)) \n",
        "model.add(Dense(1,activation='sigmoid'))\n",
        "\n",
        "model.compile(optimizer=\"sgd\", loss='binary_crossentropy', metrics=['accuracy']) \n"
      ],
      "metadata": {
        "id": "qebvjloSz4Ie"
      },
      "execution_count": 202,
      "outputs": []
    },
    {
      "cell_type": "code",
      "source": [
        "training_results = model.fit_generator(\n",
        "        train_data, \n",
        "        steps_per_epoch = len(train_data), \n",
        "        epochs=9, #epochs \n",
        "        validation_data = test_data, \n",
        "        validation_steps = len(test_data)\n",
        "        )"
      ],
      "metadata": {
        "colab": {
          "base_uri": "https://localhost:8080/"
        },
        "outputId": "8ff8a826-5649-4d91-e340-536aeee77371",
        "id": "mF8Bm2kbz4Ie"
      },
      "execution_count": 200,
      "outputs": [
        {
          "output_type": "stream",
          "name": "stdout",
          "text": [
            "Epoch 1/9\n",
            "12/12 [==============================] - 2s 112ms/step - loss: 0.7173 - accuracy: 0.5546 - val_loss: 0.6471 - val_accuracy: 0.6932\n",
            "Epoch 2/9\n",
            "12/12 [==============================] - 1s 91ms/step - loss: 0.6211 - accuracy: 0.7158 - val_loss: 0.5495 - val_accuracy: 0.8182\n",
            "Epoch 3/9\n",
            "12/12 [==============================] - 1s 95ms/step - loss: 0.5124 - accuracy: 0.7842 - val_loss: 0.4459 - val_accuracy: 0.7727\n",
            "Epoch 4/9\n",
            "12/12 [==============================] - 1s 91ms/step - loss: 0.5302 - accuracy: 0.7623 - val_loss: 0.4500 - val_accuracy: 0.8750\n",
            "Epoch 5/9\n",
            "12/12 [==============================] - 1s 92ms/step - loss: 0.5110 - accuracy: 0.7432 - val_loss: 0.4149 - val_accuracy: 0.8409\n",
            "Epoch 6/9\n",
            "12/12 [==============================] - 1s 92ms/step - loss: 0.5421 - accuracy: 0.7760 - val_loss: 0.5604 - val_accuracy: 0.8409\n",
            "Epoch 7/9\n",
            "12/12 [==============================] - 1s 90ms/step - loss: 0.4578 - accuracy: 0.8251 - val_loss: 0.3553 - val_accuracy: 0.8750\n",
            "Epoch 8/9\n",
            "12/12 [==============================] - 1s 92ms/step - loss: 0.3482 - accuracy: 0.8579 - val_loss: 0.3128 - val_accuracy: 0.8864\n",
            "Epoch 9/9\n",
            "12/12 [==============================] - 1s 94ms/step - loss: 0.3671 - accuracy: 0.8415 - val_loss: 0.2683 - val_accuracy: 0.9205\n"
          ]
        }
      ]
    },
    {
      "cell_type": "code",
      "source": [
        "import matplotlib.pyplot as plt\n",
        "%matplotlib inline\n",
        "plt.plot(training_results.history['accuracy'])\n",
        "plt.plot(training_results.history['val_accuracy'])\n",
        "plt.title('model accuracy')\n",
        "plt.ylabel('accuracy')\n",
        "plt.xlabel('epoch')\n",
        "plt.legend(['train', 'test'], loc='upper left')\n",
        "plt.show()"
      ],
      "metadata": {
        "colab": {
          "base_uri": "https://localhost:8080/",
          "height": 295
        },
        "outputId": "dbbb2fd2-92e0-47ef-91f1-8eb8d095c1a0",
        "id": "ViGnU8dOz4If"
      },
      "execution_count": 201,
      "outputs": [
        {
          "output_type": "display_data",
          "data": {
            "text/plain": [
              "<Figure size 432x288 with 1 Axes>"
            ],
            "image/png": "[encoded data removed]"
          },
          "metadata": {
            "needs_background": "light"
          }
        }
      ]
    },
    {
      "cell_type": "markdown",
      "source": [
        "# Validating With Different Images"
      ],
      "metadata": {
        "id": "Hc7HMmNPR10W"
      }
    },
    {
      "cell_type": "markdown",
      "source": [
        "# Test 1"
      ],
      "metadata": {
        "id": "J0GIqUGb02Oj"
      }
    },
    {
      "cell_type": "code",
      "source": [
        "from IPython.display import Image\n",
        "display(Image('/content/drive/MyDrive/CS167Datasets/grimos/Test/Grimace/grimace_(169).jpg'))"
      ],
      "metadata": {
        "colab": {
          "base_uri": "https://localhost:8080/",
          "height": 209
        },
        "outputId": "c4a1dbf1-edc9-4a82-af33-f9a6f1893e50",
        "id": "3qXLuXNe037n"
      },
      "execution_count": 26,
      "outputs": [
        {
          "output_type": "display_data",
          "data": {
            "image/jpeg": "[encoded data removed]",
            "text/plain": [
              "<IPython.core.display.Image object>"
            ]
          },
          "metadata": {}
        }
      ]
    },
    {
      "cell_type": "code",
      "source": [
        "from keras.utils import load_img\n",
        "from keras.utils import img_to_array\n",
        "img = load_img('/content/drive/MyDrive/CS167Datasets/grimos/Test/Grimace/grimace_(169).jpg', target_size=(64, 64))\n",
        "\n",
        "# convert to array\n",
        "img = img_to_array(img)\n",
        "\n",
        "img = img.reshape(1, 64, 64, 3)\n",
        "img = img.astype('float32')\n",
        "img = datagen.standardize(img)\n",
        "\n",
        "# predict the class\n",
        "result = model.predict(img)\n",
        "print(result)"
      ],
      "metadata": {
        "colab": {
          "base_uri": "https://localhost:8080/"
        },
        "outputId": "5cdb5f37-c563-4306-ded1-a115ea8ba316",
        "id": "_VEBKRd8037n"
      },
      "execution_count": 27,
      "outputs": [
        {
          "output_type": "stream",
          "name": "stdout",
          "text": [
            "1/1 [==============================] - 0s 16ms/step\n",
            "[[0.41193792]]\n"
          ]
        }
      ]
    },
    {
      "cell_type": "code",
      "source": [
        "import os\n",
        "vals = list(result[0])\n",
        "\n",
        "classes = os.listdir('/content/drive/MyDrive/CS167Datasets/grimos/Train')\n",
        "classes.sort()\n",
        "print(classes[int(vals[0] +.5)])"
      ],
      "metadata": {
        "colab": {
          "base_uri": "https://localhost:8080/"
        },
        "id": "wyOq2jf9pFdB",
        "outputId": "2d51692c-7fa1-43ca-d6f1-e78638ef5e4b"
      },
      "execution_count": 28,
      "outputs": [
        {
          "output_type": "stream",
          "name": "stdout",
          "text": [
            "Grimace\n"
          ]
        }
      ]
    },
    {
      "cell_type": "markdown",
      "source": [
        "# Test 2"
      ],
      "metadata": {
        "id": "uCWyyBRKbKva"
      }
    },
    {
      "cell_type": "code",
      "source": [
        "from IPython.display import Image\n",
        "display(Image('/content/drive/MyDrive/CS167Datasets/grimos/Test/Grimace/grimace_(165).jpg'))"
      ],
      "metadata": {
        "colab": {
          "base_uri": "https://localhost:8080/",
          "height": 200
        },
        "outputId": "37ca74cc-4956-46bc-d9e8-3a691cfba9e4",
        "id": "oLvXP4yry5tO"
      },
      "execution_count": 23,
      "outputs": [
        {
          "output_type": "display_data",
          "data": {
            "image/jpeg": "[encoded data removed]",
            "text/plain": [
              "<IPython.core.display.Image object>"
            ]
          },
          "metadata": {}
        }
      ]
    },
    {
      "cell_type": "code",
      "source": [
        "from keras.utils import load_img\n",
        "from keras.utils import img_to_array\n",
        "img = load_img('/content/drive/MyDrive/CS167Datasets/grimos/Test/Grimace/grimace_(165).jpg', target_size=(64, 64))\n",
        "\n",
        "# convert to array\n",
        "img = img_to_array(img)\n",
        "\n",
        "img = img.reshape(1, 64, 64, 3)\n",
        "img = img.astype('float32')\n",
        "img = datagen.standardize(img)\n",
        "\n",
        "# predict the class\n",
        "result = model.predict(img)\n",
        "print(result)"
      ],
      "metadata": {
        "colab": {
          "base_uri": "https://localhost:8080/"
        },
        "outputId": "570fb6b5-8ff4-4400-849e-69ab96b223dd",
        "id": "H8Vz1n1ny5tZ"
      },
      "execution_count": 24,
      "outputs": [
        {
          "output_type": "stream",
          "name": "stdout",
          "text": [
            "1/1 [==============================] - 0s 17ms/step\n",
            "[[0.30079827]]\n"
          ]
        }
      ]
    },
    {
      "cell_type": "code",
      "source": [
        "import os\n",
        "vals = list(result[0])\n",
        "\n",
        "classes = os.listdir('/content/drive/MyDrive/CS167Datasets/grimos/Train')\n",
        "classes.sort()\n",
        "print(classes[int(vals[0] +.5)])"
      ],
      "metadata": {
        "colab": {
          "base_uri": "https://localhost:8080/"
        },
        "id": "Yl09_N8qo9vh",
        "outputId": "4440517f-a351-4d83-be85-1e66770eeb07"
      },
      "execution_count": 25,
      "outputs": [
        {
          "output_type": "stream",
          "name": "stdout",
          "text": [
            "Grimace\n"
          ]
        }
      ]
    },
    {
      "cell_type": "markdown",
      "source": [
        "# Test 3"
      ],
      "metadata": {
        "id": "0YHrsvmOehP0"
      }
    },
    {
      "cell_type": "code",
      "source": [
        "from IPython.display import Image\n",
        "display(Image('/content/drive/MyDrive/CS167Datasets/grimos/Test/Thanos/thanos_(4).jpg'))"
      ],
      "metadata": {
        "colab": {
          "base_uri": "https://localhost:8080/",
          "height": 272
        },
        "outputId": "c40b804e-5d8e-47df-936e-f178838e7798",
        "id": "sOMgUSOGehP0"
      },
      "execution_count": 29,
      "outputs": [
        {
          "output_type": "display_data",
          "data": {
            "image/jpeg": "[encoded data removed]",
            "text/plain": [
              "<IPython.core.display.Image object>"
            ]
          },
          "metadata": {}
        }
      ]
    },
    {
      "cell_type": "code",
      "source": [
        "from keras.utils import load_img\n",
        "from keras.utils import img_to_array\n",
        "img = load_img('/content/drive/MyDrive/CS167Datasets/grimos/Test/Thanos/thanos_(4).jpg', target_size=(64, 64))\n",
        "\n",
        "# convert to array\n",
        "img = img_to_array(img)\n",
        "\n",
        "img = img.reshape(1, 64, 64, 3)\n",
        "img = img.astype('float32')\n",
        "img = datagen.standardize(img)\n",
        "\n",
        "# predict the class\n",
        "result = model.predict(img)\n",
        "print(result)"
      ],
      "metadata": {
        "colab": {
          "base_uri": "https://localhost:8080/"
        },
        "id": "YLWlKlAfdUS8",
        "outputId": "33e163c7-e424-4dd3-9c4f-10018858b3b2"
      },
      "execution_count": 30,
      "outputs": [
        {
          "output_type": "stream",
          "name": "stdout",
          "text": [
            "1/1 [==============================] - 0s 19ms/step\n",
            "[[0.77291846]]\n"
          ]
        }
      ]
    },
    {
      "cell_type": "code",
      "source": [
        "import os\n",
        "vals = list(result[0])\n",
        "\n",
        "classes = os.listdir('/content/drive/MyDrive/CS167Datasets/grimos/Train')\n",
        "classes.sort()\n",
        "print(classes[int(vals[0] +.5)])"
      ],
      "metadata": {
        "colab": {
          "base_uri": "https://localhost:8080/"
        },
        "id": "wrTv2bJmdWj3",
        "outputId": "da9d56a2-332c-4a72-bd1e-4fb4b42268fe"
      },
      "execution_count": 31,
      "outputs": [
        {
          "output_type": "stream",
          "name": "stdout",
          "text": [
            "Thanos\n"
          ]
        }
      ]
    },
    {
      "cell_type": "markdown",
      "source": [
        "# Analysis \n"
      ],
      "metadata": {
        "id": "87Pn-Mri1gPK"
      }
    },
    {
      "cell_type": "markdown",
      "source": [
        "I discovered a lot throughout the whole process of this project. At the begining there were challenges but also a lot of learning as to what it took selecting and then getting my data into working condition. I found it interesitng the way it processed the images and how I had to set it up. I will not go in depth into each model as I have included analysis before each. In running through all of these CNN models I found two tuned models that worked very well. The 1st tuned model which included a dropout layer followed by a tuned layer with width of 128. The 2nd tuned model also has a dropout layer followed by three layers, all layers having width of 8. \n",
        "\n",
        "**note: these models do have more layers I am just describing them by the relevant ones I changed* \n",
        "\n",
        "\n",
        "All of these models are relativly simple by not having very many layers within. As we saw in the 2nd tuned model the depth of it has a signifigant influence on preformance. Part of the good preformance of the models can be attributed to having limited layers, espeically when considering the relative good preformance of my original model. Another reason for the improved preformance from these tuned models is becasue of the order they are in. They both include a dropout layer first before running any others. Including a dropout layer in this postition ensures that the first batch of training samples does not infleuence the learning in a disportionate manner and that features learned later on are not ignored as much. Here is where tuned model 1 and 3 differ, but I belive there many be some correlation with this idea. As I somewhat described in the anaylsis of model 3, I was thinking of these in terms of dimensionality, ie. depth and width. In math the area taken up by a rectangle can be proportionalty kept constant even if dimensions are changing. If kept in proportion the area does not change, so correlating this idea to this problem the complexity/ information learned loosely relates to area. \n",
        "\n",
        "With the 1st tuned model I used a layer with 128 nodes. This was not very deep but contained many connections within its second layer. If I had to choose a best this model would be the winner. It has really good preformance and runs accurately. The 3rd tuned model also runs very well, however this model is a lot more consistent and so I choose it as my best for that reason. With the 3rd tuned model I dropped the width quite signifigatnly and added more layers to compensate. With this model I tested a lot of different things before landing on the idea outlined above. This was the only version where I could improve the performance even further. The models overall preformaed relativly well so it was difficult to see improvements. \n",
        "\n",
        "I believe the biggest infleucning factor in these models was the depth and order of the dropout layer. The models that followed this performed the best and should be used. You could get away with using the original model as well, however the processing time is signifigatnly higher. Running this model takes longer because it does not have a dropout layer and so it is not as practical. Testing the models with individual images proved accurate, which is consistent with the accuracy seen."
      ],
      "metadata": {
        "id": "mr9i5zpQ7XBS"
      }
    },
    {
      "cell_type": "markdown",
      "source": [
        "# Bumps in the Road"
      ],
      "metadata": {
        "id": "-5c_WkXhEyv2"
      }
    },
    {
      "cell_type": "markdown",
      "source": [
        "As I have already touched on a little, I ran into some issues early on in preparing my data. It was not formatted with the correct folders so I had to do some modification to correct this. I also ran into some issues, stemming from the creation of these folders because apparently I included an extra hidden space at the end of one. I did not find this out until much later and after much headache. This was a road bump that was solved through meticulous combing of pathing and ivestigation into the way things were saved. The last things that I struggled with was tuning my models to get better performance. Going off my original model with fairly good performacne meant that a lot of changes made only worsened the model. This took time and testing of various combinations and alterations. There wasn not really anything to it besides repetition and after trying enough models I found ones that worked quite well. Despite these challenges I was able to find solutions to all of them and got a good model as a result. "
      ],
      "metadata": {
        "id": "MZMt2DqHE2__"
      }
    }
  ]
}