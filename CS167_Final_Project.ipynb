{
  "nbformat": 4,
  "nbformat_minor": 0,
  "metadata": {
    "colab": {
      "provenance": [],
      "authorship_tag": "ABX9TyOekUYYukrkPjwKv99sJfn7",
      "include_colab_link": true
    },
    "kernelspec": {
      "name": "python3",
      "display_name": "Python 3"
    },
    "language_info": {
      "name": "python"
    },
    "accelerator": "GPU",
    "gpuClass": "standard"
  },
  "cells": [
    {
      "cell_type": "markdown",
      "metadata": {
        "id": "view-in-github",
        "colab_type": "text"
      },
      "source": [
        "<a href=\"https://colab.research.google.com/github/alexbakercan/CS167Fall22Project2/blob/main/CS167_Final_Project.ipynb\" target=\"_parent\"><img src=\"https://colab.research.google.com/assets/colab-badge.svg\" alt=\"Open In Colab\"/></a>"
      ]
    },
    {
      "cell_type": "markdown",
      "source": [
        "# Project #2\n",
        "#### Grimas and Thanos Classification Convolutional Neural Networks\n",
        "#### Name: Alex Baker "
      ],
      "metadata": {
        "id": "EEjOZXwNtYYE"
      }
    },
    {
      "cell_type": "markdown",
      "source": [
        "# Rubric and Grading\n",
        "\n",
        "\n",
        "\n",
        "| **Description/Writing**  |**I think I deserve** |**Actual Grade**|**Notes** |\n",
        "| :------------------------------- | -------: | ----: |:---- |\n",
        "| 1: Problem                       |        2/2|       /2|    |\n",
        "| 2: Data Prep                     |        2/2|       /2|    | \n",
        "| 3: Research                      |       9.5/10|      /10|    |\n",
        "| 4: Analysis                      |       9.5/10|      /10|    | \n",
        "| 5: Bumps in the Road.            |        1/1|       /1|    |\n",
        "| <b>Total                         |       24/25|      /25|    </b>|"
      ],
      "metadata": {
        "id": "gUc0Vh0kL0oQ"
      }
    },
    {
      "cell_type": "markdown",
      "source": [
        "I beleive I deserve the grade above because I have met all of the requirements. This project covers all bases, anaylizing CNN and its application well. I did not want to give myself a perfect score because there is always room for improvement. If given more time I would hopefully find a model with better preformance and I can alaways go deeper with anaylisis so I did not give full points in those categories. Despite this I still have 4 models in total and robust anaylisis so I belive a 24/25 is an accurate grade."
      ],
      "metadata": {
        "id": "b8Rlsv1FJ1rH"
      }
    },
    {
      "cell_type": "markdown",
      "source": [
        "## Problem\n",
        "\n",
        "With the data set I selected I am attempteting to deterime weather an inputted image is one of two things: thanos or grimace. As a result this is a classification problem and I am using convolutional neural networks to solve it. For the data set I am using, I found it on kaggle. It has the name \n",
        "' Thanos or Grimace:\n",
        "Images used to train and evaluate a CNN-based model ' \n",
        "by ARTURO MONCADA TORRES. It has a usability score of 8.13 and contains 462 images of both characters. After looking at the options for this project I was most inclined to use the CNN, mostly because the first option was too similar to the last project and I was more familiar with proccesing images rather than audio. I found many different potenial datasets, most of which would have ended in the same result. The only big difference being how many differnt things being classified. Due to this I decided to try somthing a little more fun and when I came upon this dataset I knew I had to use it. \n",
        "\n",
        "## Data Preparation \n",
        "\n",
        "I did not choose to use the given simpsons data set and as a result had to prepare my data before even uploading it to colab. It did not have designated test and train split folders within the file when I downloaded and unzipped it. To remedy this I created a new set of folders set up the proepr way with train/test folders and characters deliminated within. From there I mannually went through and transfered the images to the respective folders with ending in a 24% test/train split. Now that I had my data ready I was ready to go into colab and did the ussal preperation. This includes enabeling the GPU, importing the proper liabraries, setting directories and dimensions, and finally loading the data. Now that I have completed all nessisary preperation work I am confident that I am ready to work with my data. \n",
        "\n"
      ],
      "metadata": {
        "id": "Mjmwo3sjgXVP"
      }
    },
    {
      "cell_type": "markdown",
      "source": [
        "### Enable GPUs!!\n"
      ],
      "metadata": {
        "id": "HbwKLNhzP8YO"
      }
    },
    {
      "cell_type": "code",
      "execution_count": 1,
      "metadata": {
        "id": "G9KOIwg3PPy8",
        "colab": {
          "base_uri": "https://localhost:8080/"
        },
        "outputId": "836d4add-4419-4c39-a3a6-6aa4f22f3cf4"
      },
      "outputs": [
        {
          "output_type": "stream",
          "name": "stdout",
          "text": [
            "Mounted at /content/drive\n"
          ]
        }
      ],
      "source": [
        "from google.colab import drive\n",
        "import pandas\n",
        "drive.mount('/content/drive')"
      ]
    },
    {
      "cell_type": "code",
      "source": [
        "import tensorflow as tf\n",
        "device_name = tf.test.gpu_device_name()\n",
        "if device_name != '/device:GPU:0':\n",
        "  raise SystemError('GPU device not found')\n",
        "print('Found GPU at: {}'.format(device_name))"
      ],
      "metadata": {
        "id": "UcchfrTUP-jX",
        "colab": {
          "base_uri": "https://localhost:8080/"
        },
        "outputId": "0da12615-8676-4db2-bf6b-fedf7ab942a3"
      },
      "execution_count": 2,
      "outputs": [
        {
          "output_type": "stream",
          "name": "stdout",
          "text": [
            "Found GPU at: /device:GPU:0\n"
          ]
        }
      ]
    },
    {
      "cell_type": "code",
      "source": [
        "import keras\n",
        "import tensorflow as tf\n",
        "print (\"TensorFlow version: \" + tf.__version__)\n",
        "print (\"Keras version: \" + keras.__version__)"
      ],
      "metadata": {
        "id": "Xc3xC0ahQBxH",
        "colab": {
          "base_uri": "https://localhost:8080/"
        },
        "outputId": "3db88e75-c232-43a4-c9a6-a796b200d0db"
      },
      "execution_count": 3,
      "outputs": [
        {
          "output_type": "stream",
          "name": "stdout",
          "text": [
            "TensorFlow version: 2.9.2\n",
            "Keras version: 2.9.0\n"
          ]
        }
      ]
    },
    {
      "cell_type": "code",
      "source": [
        "#ignore warnings\n",
        "import warnings\n",
        "warnings.filterwarnings('ignore')"
      ],
      "metadata": {
        "id": "45KHxpMVQNL2"
      },
      "execution_count": 4,
      "outputs": []
    },
    {
      "cell_type": "code",
      "source": [
        "# import the libraries\n",
        "import keras\n",
        "import sys\n",
        "from matplotlib import pyplot\n",
        "from keras.models import Sequential\n",
        "from keras.layers import Conv2D\n",
        "from keras.layers import MaxPooling2D\n",
        "from keras.layers import Dense\n",
        "from keras.layers import Flatten\n",
        "from keras.preprocessing.image import ImageDataGenerator\n",
        "import sys"
      ],
      "metadata": {
        "id": "RzImK38UQPQ6"
      },
      "execution_count": 5,
      "outputs": []
    },
    {
      "cell_type": "code",
      "source": [
        "# dimensions of our images.\n",
        "img_width = 64\n",
        "img_height = 64\n",
        "\n",
        "#the directories where our train and test data is\n",
        "train_data_dir = '/content/drive/MyDrive/CS167Datasets/grimos/Train' \n",
        "test_data_dir = '/content/drive/MyDrive/CS167Datasets/grimos/Test'   \n",
        "\n",
        "#we will feed the training images to the neural network\n",
        "#in batches of 32 images at a time so we don't have \n",
        "#to load the entire data set into memory\n",
        "batch_size = 32"
      ],
      "metadata": {
        "id": "EkCPhZYmPZNR"
      },
      "execution_count": 6,
      "outputs": []
    },
    {
      "cell_type": "markdown",
      "source": [
        "# Load the data\n"
      ],
      "metadata": {
        "id": "qR_foVOeQVL7"
      }
    },
    {
      "cell_type": "code",
      "source": [
        "# used to rescale the pixel values from [0, 255] to between 0 and 1\n",
        "datagen = ImageDataGenerator(rescale=1.0/255.0)\n",
        "\n",
        "#These will look for our training and testing data\n",
        "train_data = datagen.flow_from_directory(\n",
        "        train_data_dir,\n",
        "        target_size=(img_width, img_height),\n",
        "        batch_size=batch_size,\n",
        "        class_mode='binary') \n",
        "\n",
        "test_data = datagen.flow_from_directory(\n",
        "        test_data_dir,\n",
        "        target_size=(img_width, img_height),\n",
        "        batch_size=batch_size,\n",
        "        class_mode='binary')"
      ],
      "metadata": {
        "id": "Q22NNOOQQZH5",
        "colab": {
          "base_uri": "https://localhost:8080/"
        },
        "outputId": "de426a47-63ea-4657-b0de-4d1138522726"
      },
      "execution_count": 7,
      "outputs": [
        {
          "output_type": "stream",
          "name": "stdout",
          "text": [
            "Found 366 images belonging to 2 classes.\n",
            "Found 89 images belonging to 2 classes.\n"
          ]
        }
      ]
    },
    {
      "cell_type": "markdown",
      "source": [
        "24% test split^^"
      ],
      "metadata": {
        "id": "sJ4GkogRwzI0"
      }
    },
    {
      "cell_type": "markdown",
      "source": [
        "# Convolutional Neural Network (CNN) "
      ],
      "metadata": {
        "id": "OdTrVADWx_CQ"
      }
    },
    {
      "cell_type": "code",
      "source": [
        "model = Sequential()\n",
        "model.add(Conv2D(32, (3, 3), activation = 'relu', input_shape=(img_width, img_height, 3)))\n",
        "model.add(MaxPooling2D(pool_size = (2,2)))\n",
        "\n",
        "model.add(Conv2D(32, (3, 3), activation = 'relu', input_shape=(img_width, img_height, 3)))\n",
        "model.add(MaxPooling2D(pool_size = (2,2)))\n",
        "\n",
        "\n",
        "model.add(Flatten()) \n",
        "model.add(Dense(32)) \n",
        "model.add(Dense(1,activation='sigmoid'))\n",
        "\n",
        "model.compile(optimizer=\"sgd\", loss='binary_crossentropy', metrics=['accuracy']) \n"
      ],
      "metadata": {
        "id": "RGpChqQwQgYO"
      },
      "execution_count": 34,
      "outputs": []
    },
    {
      "cell_type": "code",
      "source": [
        "training_results = model.fit_generator(\n",
        "        train_data, \n",
        "        steps_per_epoch = len(train_data), \n",
        "        epochs=9, #epochs \n",
        "        validation_data = test_data, \n",
        "        validation_steps = len(test_data)\n",
        "        )"
      ],
      "metadata": {
        "colab": {
          "base_uri": "https://localhost:8080/"
        },
        "id": "2phK1hPFxnsa",
        "outputId": "348f3cf0-5413-4115-a6ae-7ea51cf98389"
      },
      "execution_count": 35,
      "outputs": [
        {
          "output_type": "stream",
          "name": "stdout",
          "text": [
            "Epoch 1/9\n",
            "12/12 [==============================] - 2s 115ms/step - loss: 0.6966 - accuracy: 0.5464 - val_loss: 0.6826 - val_accuracy: 0.5393\n",
            "Epoch 2/9\n",
            "12/12 [==============================] - 1s 97ms/step - loss: 0.6663 - accuracy: 0.6257 - val_loss: 0.6540 - val_accuracy: 0.7079\n",
            "Epoch 3/9\n",
            "12/12 [==============================] - 1s 98ms/step - loss: 0.6357 - accuracy: 0.7213 - val_loss: 0.6248 - val_accuracy: 0.7191\n",
            "Epoch 4/9\n",
            "12/12 [==============================] - 1s 101ms/step - loss: 0.6022 - accuracy: 0.7623 - val_loss: 0.6052 - val_accuracy: 0.7079\n",
            "Epoch 5/9\n",
            "12/12 [==============================] - 1s 101ms/step - loss: 0.5683 - accuracy: 0.7869 - val_loss: 0.5548 - val_accuracy: 0.7753\n",
            "Epoch 6/9\n",
            "12/12 [==============================] - 1s 96ms/step - loss: 0.5271 - accuracy: 0.7760 - val_loss: 0.5139 - val_accuracy: 0.7753\n",
            "Epoch 7/9\n",
            "12/12 [==============================] - 1s 99ms/step - loss: 0.5103 - accuracy: 0.7705 - val_loss: 0.4888 - val_accuracy: 0.8202\n",
            "Epoch 8/9\n",
            "12/12 [==============================] - 1s 97ms/step - loss: 0.4681 - accuracy: 0.7896 - val_loss: 0.4436 - val_accuracy: 0.8427\n",
            "Epoch 9/9\n",
            "12/12 [==============================] - 1s 102ms/step - loss: 0.4338 - accuracy: 0.8224 - val_loss: 0.4163 - val_accuracy: 0.8427\n"
          ]
        }
      ]
    },
    {
      "cell_type": "code",
      "source": [
        "import matplotlib.pyplot as plt\n",
        "%matplotlib inline\n",
        "plt.plot(training_results.history['accuracy'])\n",
        "plt.plot(training_results.history['val_accuracy'])\n",
        "plt.title('model accuracy')\n",
        "plt.ylabel('accuracy')\n",
        "plt.xlabel('epoch')\n",
        "plt.legend(['train', 'test'], loc='upper left')\n",
        "plt.show()"
      ],
      "metadata": {
        "colab": {
          "base_uri": "https://localhost:8080/",
          "height": 295
        },
        "id": "wIdt_bMoMLtM",
        "outputId": "550b94fb-7157-4420-a803-3286069e5ca0"
      },
      "execution_count": 36,
      "outputs": [
        {
          "output_type": "display_data",
          "data": {
            "text/plain": [
              "<Figure size 432x288 with 1 Axes>"
            ],
            "image/png": "[encoded data removed]"
          },
          "metadata": {
            "needs_background": "light"
          }
        }
      ]
    },
    {
      "cell_type": "markdown",
      "source": [
        "# Tuned CNN\n"
      ],
      "metadata": {
        "id": "-fDldoO9z6Fd"
      }
    },
    {
      "cell_type": "markdown",
      "source": [
        "This model includes a dropout layer at the begining followed by a layer with width of 128. Keeping the amount of layers down aided in preformance along with the other alterations made. Running the model multiple times showed it to consistently preform better, espeiclally the training line. It was a little inconsistent but overall outpreformed the original."
      ],
      "metadata": {
        "id": "cQOEg-x91qb9"
      }
    },
    {
      "cell_type": "code",
      "source": [
        "from keras.layers import Dropout\n",
        "\n",
        "model = Sequential()\n",
        "\n",
        "model.add(Conv2D(32, (3, 3), activation = 'relu', input_shape=(img_width, img_height, 3)))\n",
        "model.add(Dropout(0.2, (32,)))\n",
        "\n",
        "model.add(Conv2D(128, (3, 3), activation = 'relu', input_shape=(img_width, img_height, 3)))\n",
        "model.add(MaxPooling2D(pool_size = (2,2)))\n",
        "\n",
        "\n",
        "model.add(Flatten()) \n",
        "model.add(Dense(128)) \n",
        "model.add(Dense(1,activation='sigmoid'))\n",
        "\n",
        "model.compile(optimizer=\"sgd\", loss='binary_crossentropy', metrics=['accuracy']) "
      ],
      "metadata": {
        "id": "kZDWXpls6IaK"
      },
      "execution_count": 27,
      "outputs": []
    },
    {
      "cell_type": "code",
      "source": [
        "training_results = model.fit_generator(\n",
        "        train_data, \n",
        "        steps_per_epoch = len(train_data), \n",
        "        epochs=9, #epochs \n",
        "        validation_data = test_data, \n",
        "        validation_steps = len(test_data)\n",
        "        )"
      ],
      "metadata": {
        "colab": {
          "base_uri": "https://localhost:8080/"
        },
        "id": "q88eXKrE6MD4",
        "outputId": "0a67d78b-9d91-485d-91d0-d83b87546939"
      },
      "execution_count": 28,
      "outputs": [
        {
          "output_type": "stream",
          "name": "stdout",
          "text": [
            "Epoch 1/9\n",
            "12/12 [==============================] - 2s 114ms/step - loss: 0.8528 - accuracy: 0.5683 - val_loss: 0.6659 - val_accuracy: 0.5455\n",
            "Epoch 2/9\n",
            "12/12 [==============================] - 1s 98ms/step - loss: 0.6018 - accuracy: 0.7322 - val_loss: 0.5482 - val_accuracy: 0.7841\n",
            "Epoch 3/9\n",
            "12/12 [==============================] - 1s 94ms/step - loss: 0.5685 - accuracy: 0.7623 - val_loss: 0.5321 - val_accuracy: 0.7045\n",
            "Epoch 4/9\n",
            "12/12 [==============================] - 1s 95ms/step - loss: 0.5496 - accuracy: 0.7404 - val_loss: 0.4315 - val_accuracy: 0.8977\n",
            "Epoch 5/9\n",
            "12/12 [==============================] - 1s 99ms/step - loss: 0.4479 - accuracy: 0.8415 - val_loss: 0.3598 - val_accuracy: 0.9205\n",
            "Epoch 6/9\n",
            "12/12 [==============================] - 2s 160ms/step - loss: 0.4386 - accuracy: 0.8115 - val_loss: 0.3227 - val_accuracy: 0.9205\n",
            "Epoch 7/9\n",
            "12/12 [==============================] - 1s 94ms/step - loss: 0.4162 - accuracy: 0.8197 - val_loss: 0.3281 - val_accuracy: 0.8977\n",
            "Epoch 8/9\n",
            "12/12 [==============================] - 2s 130ms/step - loss: 0.3471 - accuracy: 0.8743 - val_loss: 0.2673 - val_accuracy: 0.9318\n",
            "Epoch 9/9\n",
            "12/12 [==============================] - 1s 116ms/step - loss: 0.3431 - accuracy: 0.8579 - val_loss: 0.2337 - val_accuracy: 0.9318\n"
          ]
        }
      ]
    },
    {
      "cell_type": "code",
      "source": [
        "import matplotlib.pyplot as plt\n",
        "%matplotlib inline\n",
        "plt.plot(training_results.history['accuracy'])\n",
        "plt.plot(training_results.history['val_accuracy'])\n",
        "plt.title('model accuracy')\n",
        "plt.ylabel('accuracy')\n",
        "plt.xlabel('epoch')\n",
        "plt.legend(['train', 'test'], loc='upper left')\n",
        "plt.show()"
      ],
      "metadata": {
        "colab": {
          "base_uri": "https://localhost:8080/",
          "height": 295
        },
        "id": "7NfvpRIm6Ovj",
        "outputId": "ebaf7acf-a625-4055-d1d4-597d424bd47a"
      },
      "execution_count": 29,
      "outputs": [
        {
          "output_type": "display_data",
          "data": {
            "text/plain": [
              "<Figure size 432x288 with 1 Axes>"
            ],
            "image/png": "[encoded data removed]"
          },
          "metadata": {
            "needs_background": "light"
          }
        }
      ]
    },
    {
      "cell_type": "markdown",
      "source": [
        "# 2nd Tuned Model \n"
      ],
      "metadata": {
        "id": "0ssmvTuZ9TB7"
      }
    },
    {
      "cell_type": "markdown",
      "source": [
        "In running and tuning this model I wanted to experiment with the amount of layers present as well as the order they are in mostly moving the dropout layers. Running a model with more layers proved very difficult to get good preformance. If I added anymore than the one dropout layers than profemance tanked. This makes sense as it reduces too much and cannot accruatly preform. With three other pooling layers I was able to get decent preformance but still seemed to be worse than the original. Even if not better, I still took away a lot from this model and was able to test the effects of layering well. "
      ],
      "metadata": {
        "id": "xB-fZZ-J2qqw"
      }
    },
    {
      "cell_type": "code",
      "source": [
        "from keras.layers import Dropout\n",
        "\n",
        "model = Sequential()\n",
        "\n",
        "model.add(Conv2D(32, (3, 3), activation = 'relu', input_shape=(img_width, img_height, 3)))\n",
        "model.add(MaxPooling2D(pool_size = (2,2)))\n",
        "\n",
        "\n",
        "\n",
        "model.add(Conv2D(32, (3, 3), activation = 'relu', input_shape=(img_width, img_height, 3)))\n",
        "model.add(MaxPooling2D(pool_size = (2,2)))\n",
        "\n",
        "\n",
        "model.add(Conv2D(32, (3, 3), activation = 'relu', input_shape=(img_width, img_height, 3)))\n",
        "model.add(MaxPooling2D(pool_size = (2,2)))\n",
        "\n",
        "\n",
        "model.add(Conv2D(32, (3, 3), activation = 'relu', input_shape=(img_width, img_height, 3)))\n",
        "model.add(Dropout(0.2, (32,)))\n",
        "\n",
        "\n",
        "\n",
        "model.add(Flatten()) \n",
        "model.add(Dense(32)) \n",
        "model.add(Dense(1,activation='sigmoid'))\n",
        "\n",
        "model.compile(optimizer=\"sgd\", loss='binary_crossentropy', metrics=['accuracy']) "
      ],
      "metadata": {
        "id": "fNmgV7uN9d36"
      },
      "execution_count": 39,
      "outputs": []
    },
    {
      "cell_type": "code",
      "source": [
        "training_results = model.fit_generator(\n",
        "        train_data, \n",
        "        steps_per_epoch = len(train_data), \n",
        "        epochs=9, #epochs \n",
        "        validation_data = test_data, \n",
        "        validation_steps = len(test_data)\n",
        "        )"
      ],
      "metadata": {
        "colab": {
          "base_uri": "https://localhost:8080/"
        },
        "id": "pQY4z-XP9iSm",
        "outputId": "a9fde1ee-9262-4921-96e3-3d0d46c74353"
      },
      "execution_count": 40,
      "outputs": [
        {
          "output_type": "stream",
          "name": "stdout",
          "text": [
            "Epoch 1/9\n",
            "12/12 [==============================] - 2s 162ms/step - loss: 0.7006 - accuracy: 0.4563 - val_loss: 0.6929 - val_accuracy: 0.5455\n",
            "Epoch 2/9\n",
            "12/12 [==============================] - 1s 94ms/step - loss: 0.6861 - accuracy: 0.5628 - val_loss: 0.6859 - val_accuracy: 0.5455\n",
            "Epoch 3/9\n",
            "12/12 [==============================] - 1s 92ms/step - loss: 0.6787 - accuracy: 0.5820 - val_loss: 0.6793 - val_accuracy: 0.5455\n",
            "Epoch 4/9\n",
            "12/12 [==============================] - 1s 98ms/step - loss: 0.6722 - accuracy: 0.5683 - val_loss: 0.6729 - val_accuracy: 0.5568\n",
            "Epoch 5/9\n",
            "12/12 [==============================] - 1s 91ms/step - loss: 0.6658 - accuracy: 0.5902 - val_loss: 0.6659 - val_accuracy: 0.5795\n",
            "Epoch 6/9\n",
            "12/12 [==============================] - 1s 94ms/step - loss: 0.6658 - accuracy: 0.6339 - val_loss: 0.6597 - val_accuracy: 0.5682\n",
            "Epoch 7/9\n",
            "12/12 [==============================] - 1s 95ms/step - loss: 0.6598 - accuracy: 0.6066 - val_loss: 0.6503 - val_accuracy: 0.6818\n",
            "Epoch 8/9\n",
            "12/12 [==============================] - 1s 94ms/step - loss: 0.6448 - accuracy: 0.6311 - val_loss: 0.6389 - val_accuracy: 0.7159\n",
            "Epoch 9/9\n",
            "12/12 [==============================] - 1s 89ms/step - loss: 0.6426 - accuracy: 0.6831 - val_loss: 0.6270 - val_accuracy: 0.7045\n"
          ]
        }
      ]
    },
    {
      "cell_type": "code",
      "source": [
        "import matplotlib.pyplot as plt\n",
        "%matplotlib inline\n",
        "plt.plot(training_results.history['accuracy'])\n",
        "plt.plot(training_results.history['val_accuracy'])\n",
        "plt.title('model accuracy')\n",
        "plt.ylabel('accuracy')\n",
        "plt.xlabel('epoch')\n",
        "plt.legend(['train', 'test'], loc='upper left')\n",
        "plt.show()"
      ],
      "metadata": {
        "colab": {
          "base_uri": "https://localhost:8080/",
          "height": 295
        },
        "id": "vFzvNP7Z9l4U",
        "outputId": "2689c74e-3419-4fcd-8fab-1944129a9710"
      },
      "execution_count": 41,
      "outputs": [
        {
          "output_type": "display_data",
          "data": {
            "text/plain": [
              "<Figure size 432x288 with 1 Axes>"
            ],
            "image/png": "[encoded data removed]"
          },
          "metadata": {
            "needs_background": "light"
          }
        }
      ]
    },
    {
      "cell_type": "markdown",
      "source": [
        "# 3rd Tuned Model"
      ],
      "metadata": {
        "id": "eRVOUTz56aiV"
      }
    },
    {
      "cell_type": "markdown",
      "source": [
        "With this model being the last I wanted to include the most robust testing and try out as many differnt alterations to see how it would effect things. Surprisingly most of the time I could not get results that were better than the original. It proved to be a little inconsistent when I ran them multiple times but generally was not the results I was looking for. In my testing I tried the following things: \n",
        "- Messed with differing kernal sizes going all the way up to (18,18)\n",
        "- Changing number of layers both high and low\n",
        "- Messing with the order and number of each type of layer \n",
        "- Changing the pooling size \n",
        "- Altering the layer width \n",
        "\n",
        "The layer width is the point at which I finnally began to get better preformance. I was brainstorming solutions and thought that by decreasing the width of a layer and increasing the depth could prove advantageous. Even though it was a large reduction I hoped by compesating in the depth of layers would even it out. Intially I had too many layers, and as discovered above, this didnt yeild great preformance. I reduced it down some and found 3 layers to be best. Even thought it was a little inconsistent I found a model that yeilds better preofrmance. This one includes the dropout layer first with each layer only having a width of 8. This model gave me the most insight into CNN's and the way that they function and can be manipulated. "
      ],
      "metadata": {
        "id": "jExYsgAy4N6n"
      }
    },
    {
      "cell_type": "code",
      "source": [
        "from keras.layers import Dropout\n",
        "\n",
        "model = Sequential()\n",
        "\n",
        "\n",
        "model.add(Conv2D(8, (2, 2), activation = 'relu', input_shape=(img_width, img_height, 3)))\n",
        "model.add(Dropout(0.2, (8,)))\n",
        "\n",
        "model.add(Conv2D(8, (2, 2), activation = 'relu', input_shape=(img_width, img_height, 3)))\n",
        "model.add(MaxPooling2D(pool_size = (1,1)))\n",
        "\n",
        "model.add(Conv2D(8, (2, 2), activation = 'relu', input_shape=(img_width, img_height, 3)))\n",
        "model.add(MaxPooling2D(pool_size = (1,1)))\n",
        "\n",
        "\n",
        "\n",
        "model.add(Flatten()) \n",
        "model.add(Dense(32)) \n",
        "model.add(Dense(1,activation='sigmoid'))\n",
        "\n",
        "model.compile(optimizer=\"sgd\", loss='binary_crossentropy', metrics=['accuracy']) \n"
      ],
      "metadata": {
        "id": "qebvjloSz4Ie"
      },
      "execution_count": 202,
      "outputs": []
    },
    {
      "cell_type": "code",
      "source": [
        "training_results = model.fit_generator(\n",
        "        train_data, \n",
        "        steps_per_epoch = len(train_data), \n",
        "        epochs=9, #epochs \n",
        "        validation_data = test_data, \n",
        "        validation_steps = len(test_data)\n",
        "        )"
      ],
      "metadata": {
        "colab": {
          "base_uri": "https://localhost:8080/"
        },
        "outputId": "8ff8a826-5649-4d91-e340-536aeee77371",
        "id": "mF8Bm2kbz4Ie"
      },
      "execution_count": 200,
      "outputs": [
        {
          "output_type": "stream",
          "name": "stdout",
          "text": [
            "Epoch 1/9\n",
            "12/12 [==============================] - 2s 112ms/step - loss: 0.7173 - accuracy: 0.5546 - val_loss: 0.6471 - val_accuracy: 0.6932\n",
            "Epoch 2/9\n",
            "12/12 [==============================] - 1s 91ms/step - loss: 0.6211 - accuracy: 0.7158 - val_loss: 0.5495 - val_accuracy: 0.8182\n",
            "Epoch 3/9\n",
            "12/12 [==============================] - 1s 95ms/step - loss: 0.5124 - accuracy: 0.7842 - val_loss: 0.4459 - val_accuracy: 0.7727\n",
            "Epoch 4/9\n",
            "12/12 [==============================] - 1s 91ms/step - loss: 0.5302 - accuracy: 0.7623 - val_loss: 0.4500 - val_accuracy: 0.8750\n",
            "Epoch 5/9\n",
            "12/12 [==============================] - 1s 92ms/step - loss: 0.5110 - accuracy: 0.7432 - val_loss: 0.4149 - val_accuracy: 0.8409\n",
            "Epoch 6/9\n",
            "12/12 [==============================] - 1s 92ms/step - loss: 0.5421 - accuracy: 0.7760 - val_loss: 0.5604 - val_accuracy: 0.8409\n",
            "Epoch 7/9\n",
            "12/12 [==============================] - 1s 90ms/step - loss: 0.4578 - accuracy: 0.8251 - val_loss: 0.3553 - val_accuracy: 0.8750\n",
            "Epoch 8/9\n",
            "12/12 [==============================] - 1s 92ms/step - loss: 0.3482 - accuracy: 0.8579 - val_loss: 0.3128 - val_accuracy: 0.8864\n",
            "Epoch 9/9\n",
            "12/12 [==============================] - 1s 94ms/step - loss: 0.3671 - accuracy: 0.8415 - val_loss: 0.2683 - val_accuracy: 0.9205\n"
          ]
        }
      ]
    },
    {
      "cell_type": "code",
      "source": [
        "import matplotlib.pyplot as plt\n",
        "%matplotlib inline\n",
        "plt.plot(training_results.history['accuracy'])\n",
        "plt.plot(training_results.history['val_accuracy'])\n",
        "plt.title('model accuracy')\n",
        "plt.ylabel('accuracy')\n",
        "plt.xlabel('epoch')\n",
        "plt.legend(['train', 'test'], loc='upper left')\n",
        "plt.show()"
      ],
      "metadata": {
        "colab": {
          "base_uri": "https://localhost:8080/",
          "height": 295
        },
        "outputId": "dbbb2fd2-92e0-47ef-91f1-8eb8d095c1a0",
        "id": "ViGnU8dOz4If"
      },
      "execution_count": 201,
      "outputs": [
        {
          "output_type": "display_data",
          "data": {
            "text/plain": [
              "<Figure size 432x288 with 1 Axes>"
            ],
            "image/png": "[encoded data removed]"
          },
          "metadata": {
            "needs_background": "light"
          }
        }
      ]
    },
    {
      "cell_type": "markdown",
      "source": [
        "# Validating With Different Images"
      ],
      "metadata": {
        "id": "Hc7HMmNPR10W"
      }
    },
    {
      "cell_type": "markdown",
      "source": [
        "# Test 1"
      ],
      "metadata": {
        "id": "J0GIqUGb02Oj"
      }
    },
    {
      "cell_type": "code",
      "source": [
        "from IPython.display import Image\n",
        "display(Image('/content/drive/MyDrive/CS167Datasets/grimos/Test/Grimace/grimace_(169).jpg'))"
      ],
      "metadata": {
        "colab": {
          "base_uri": "https://localhost:8080/",
          "height": 209
        },
        "outputId": "4c56714a-e02a-4508-ea97-ad7f4a3ca085",
        "id": "3qXLuXNe037n"
      },
      "execution_count": 16,
      "outputs": [
        {
          "output_type": "display_data",
          "data": {
            "image/jpeg": "[encoded data removed]",
            "text/plain": [
              "<IPython.core.display.Image object>"
            ]
          },
          "metadata": {}
        }
      ]
    },
    {
      "cell_type": "code",
      "source": [
        "from keras.utils import load_img\n",
        "from keras.utils import img_to_array\n",
        "img = load_img('/content/drive/MyDrive/CS167Datasets/grimos/Test/Grimace/grimace_(169).jpg', target_size=(64, 64))\n",
        "\n",
        "# convert to array\n",
        "img = img_to_array(img)\n",
        "\n",
        "img = img.reshape(1, 64, 64, 3)\n",
        "img = img.astype('float32')\n",
        "img = datagen.standardize(img)\n",
        "\n",
        "# predict the class\n",
        "result = model.predict(img)\n",
        "print(result)"
      ],
      "metadata": {
        "colab": {
          "base_uri": "https://localhost:8080/"
        },
        "outputId": "0ed21191-917d-428b-f292-019a3b683683",
        "id": "_VEBKRd8037n"
      },
      "execution_count": 17,
      "outputs": [
        {
          "output_type": "stream",
          "name": "stdout",
          "text": [
            "1/1 [==============================] - 0s 131ms/step\n",
            "[[0.43563822]]\n"
          ]
        }
      ]
    },
    {
      "cell_type": "code",
      "source": [
        "import os\n",
        "vals = list(result[0])\n",
        "\n",
        "classes = os.listdir('/content/drive/MyDrive/CS167Datasets/grimos/Train')\n",
        "classes.sort()\n",
        "max_index = vals.index(max(vals)) \n",
        "print(classes[max_index])"
      ],
      "metadata": {
        "colab": {
          "base_uri": "https://localhost:8080/"
        },
        "outputId": "89e1e33e-eb36-4385-ab46-757877c6bd9f",
        "id": "vPnKL8Ej037n"
      },
      "execution_count": 18,
      "outputs": [
        {
          "output_type": "stream",
          "name": "stdout",
          "text": [
            "Grimace\n"
          ]
        }
      ]
    },
    {
      "cell_type": "markdown",
      "source": [
        "# Test 2"
      ],
      "metadata": {
        "id": "uCWyyBRKbKva"
      }
    },
    {
      "cell_type": "code",
      "source": [
        "from IPython.display import Image\n",
        "display(Image('/content/drive/MyDrive/CS167Datasets/grimos/Test/Grimace/grimace_(165).jpg'))"
      ],
      "metadata": {
        "colab": {
          "base_uri": "https://localhost:8080/",
          "height": 200
        },
        "outputId": "101b2e03-e8d7-43b4-f35d-1d0a88ad9269",
        "id": "oLvXP4yry5tO"
      },
      "execution_count": 19,
      "outputs": [
        {
          "output_type": "display_data",
          "data": {
            "image/jpeg": "[encoded data removed]",
            "text/plain": [
              "<IPython.core.display.Image object>"
            ]
          },
          "metadata": {}
        }
      ]
    },
    {
      "cell_type": "code",
      "source": [
        "from keras.utils import load_img\n",
        "from keras.utils import img_to_array\n",
        "img = load_img('/content/drive/MyDrive/CS167Datasets/grimos/Test/Grimace/grimace_(165).jpg', target_size=(64, 64))\n",
        "\n",
        "# convert to array\n",
        "img = img_to_array(img)\n",
        "\n",
        "img = img.reshape(1, 64, 64, 3)\n",
        "img = img.astype('float32')\n",
        "img = datagen.standardize(img)\n",
        "\n",
        "# predict the class\n",
        "result = model.predict(img)\n",
        "print(result)"
      ],
      "metadata": {
        "colab": {
          "base_uri": "https://localhost:8080/"
        },
        "outputId": "2858aba0-5442-4ba5-f943-9f72fa182591",
        "id": "H8Vz1n1ny5tZ"
      },
      "execution_count": 20,
      "outputs": [
        {
          "output_type": "stream",
          "name": "stdout",
          "text": [
            "1/1 [==============================] - 0s 17ms/step\n",
            "[[0.27927014]]\n"
          ]
        }
      ]
    },
    {
      "cell_type": "code",
      "source": [
        "import os\n",
        "vals = list(result[0])\n",
        "\n",
        "classes = os.listdir('/content/drive/MyDrive/CS167Datasets/grimos/Train')\n",
        "classes.sort()\n",
        "max_index = vals.index(max(vals)) \n",
        "print(classes[max_index])"
      ],
      "metadata": {
        "colab": {
          "base_uri": "https://localhost:8080/"
        },
        "outputId": "ee4872c4-bbcc-40ec-a5f5-007763346b59",
        "id": "I4Wx-bLoy5tZ"
      },
      "execution_count": 21,
      "outputs": [
        {
          "output_type": "stream",
          "name": "stdout",
          "text": [
            "Grimace\n"
          ]
        }
      ]
    },
    {
      "cell_type": "markdown",
      "source": [
        "# Test 3"
      ],
      "metadata": {
        "id": "0YHrsvmOehP0"
      }
    },
    {
      "cell_type": "code",
      "source": [
        "from IPython.display import Image\n",
        "display(Image('/content/drive/MyDrive/CS167Datasets/grimos/Test/Thanos/thanos_(4).jpg'))"
      ],
      "metadata": {
        "colab": {
          "base_uri": "https://localhost:8080/",
          "height": 272
        },
        "outputId": "46d43bdb-c7d5-41f1-d118-3b185db3b5b9",
        "id": "sOMgUSOGehP0"
      },
      "execution_count": 30,
      "outputs": [
        {
          "output_type": "display_data",
          "data": {
            "image/jpeg": "[encoded data removed]",
            "text/plain": [
              "<IPython.core.display.Image object>"
            ]
          },
          "metadata": {}
        }
      ]
    },
    {
      "cell_type": "code",
      "source": [
        "from keras.utils import load_img\n",
        "from keras.utils import img_to_array\n",
        "img = load_img('/content/drive/MyDrive/CS167Datasets/grimos/Test/Thanos/thanos_(4).jpg', target_size=(64, 64))\n",
        "\n",
        "# convert to array\n",
        "img = img_to_array(img)\n",
        "\n",
        "img = img.reshape(1, 64, 64, 3)\n",
        "img = img.astype('float32')\n",
        "img = datagen.standardize(img)\n",
        "\n",
        "# predict the class\n",
        "result = model.predict(img)\n",
        "print(result)"
      ],
      "metadata": {
        "colab": {
          "base_uri": "https://localhost:8080/"
        },
        "id": "YLWlKlAfdUS8",
        "outputId": "3449eac9-980c-41d9-e7c4-2ebb715d865a"
      },
      "execution_count": 23,
      "outputs": [
        {
          "output_type": "stream",
          "name": "stdout",
          "text": [
            "1/1 [==============================] - 0s 15ms/step\n",
            "[[0.8434027]]\n"
          ]
        }
      ]
    },
    {
      "cell_type": "code",
      "source": [
        "import os\n",
        "vals = list(result[0])\n",
        "\n",
        "classes = os.listdir('/content/drive/MyDrive/CS167Datasets/grimos/Train')\n",
        "classes.sort()\n",
        "max_index = vals.index(max(vals)) \n",
        "print(classes[max_index])"
      ],
      "metadata": {
        "colab": {
          "base_uri": "https://localhost:8080/"
        },
        "id": "wrTv2bJmdWj3",
        "outputId": "17835d1c-8c0b-4ed6-dcfa-048b751747e9"
      },
      "execution_count": 24,
      "outputs": [
        {
          "output_type": "stream",
          "name": "stdout",
          "text": [
            "Grimace\n"
          ]
        }
      ]
    },
    {
      "cell_type": "markdown",
      "source": [
        "# Analysis \n"
      ],
      "metadata": {
        "id": "87Pn-Mri1gPK"
      }
    },
    {
      "cell_type": "markdown",
      "source": [
        "I discovered a lot throughout the whole process of this project. At the begining there were challenges but also a lot of learning as to what it took selecting and then getting my data into working condition. I found it interesitng the way it processed the images and how I had to set it up. I will not go in depth into each model as I have included analysis before each. In running through all of these CNN models I found two tuned models that worked very well. The 1st tuned model which included a dropout layer followed by a tuned layer with width of 128. The 2nd tuned model also has a dropout layer followed by three layers, all layers having width of 8. \n",
        "\n",
        "**note: these models do have more layers I am just describing them by the relevant ones I changed* \n",
        "\n",
        "\n",
        "All of these models are relativly simple by not having very many layers within. As we saw in the 2nd tuned model the depth of it has a signifigant influence on preformance. Part of the good preformance of the models can be attributed to having limited layers, espeically when considering the relative good preformance of my original model. Another reason for the improved preformance from these tuned models is becasue of the order they are in. They both include a dropout layer first before running any others. Including a dropout layer in this postition ensures that the first batch of training samples does not infleuence the learning in a disportionate manner and that features learned later on are not ignored as much. Here is where tuned model 1 and 3 differ, but I belive there many be some correlation with this idea. As I somewhat described in the anaylsis of model 3, I was thinking of these in terms of dimensionality, ie. depth and width. In math the area taken up by a rectangle can be proportionalty kept constant even if dimensions are changing. If kept in proportion the area does not change, so correlating this idea to this problem the complexity/ information learned loosely relates to area. \n",
        "\n",
        "With the 1st tuned model I used a layer with 128 nodes. This was not very deep but contained many connections within its second layer. If I had to choose a best this model would be the winner. It has really good preformance and runs accurately. The 3rd tuned model also runs very well, however this model is a lot more consistent and so I choose it as my best for that reason. With the 3rd tuned model I dropped the width quite signifigatnly and added more layers to compensate. With this model I tested a lot of different things before landing on the idea outlined above. This was the only version where I could improve the performance even further. The models overall preformaed relativly well so it was difficult to see improvements. \n",
        "\n",
        "I believe the biggest infleucning factor in these models was the depth and order of the dropout layer. The models that followed this performed the best and should be used. You could get away with using the original model as well, however the processing time is signifigatnly higher. Running this model takes longer because it does not have a dropout layer and so it is not as practical. Testing the models with individual images proved accurate, which is consistent with the accuracy seen."
      ],
      "metadata": {
        "id": "mr9i5zpQ7XBS"
      }
    },
    {
      "cell_type": "markdown",
      "source": [
        "# Bumps in the Road"
      ],
      "metadata": {
        "id": "-5c_WkXhEyv2"
      }
    },
    {
      "cell_type": "markdown",
      "source": [
        "As I have already touched on a little, I ran into some issues early on in preparing my data. It was not formatted with the correct folders so I had to do some modification to correct this. I also ran into some issues, stemming from the creation of these folders because apparently I included an extra hidden space at the end of one. I did not find this out until much later and after much headache. This was a road bump that was solved through meticulous combing of pathing and ivestigation into the way things were saved. The last things that I struggled with was tuning my models to get better performance. Going off my original model with fairly good performacne meant that a lot of changes made only worsened the model. This took time and testing of various combinations and alterations. There wasn not really anything to it besides repetition and after trying enough models I found ones that worked quite well. Despite these challenges I was able to find solutions to all of them and got a good model as a result. "
      ],
      "metadata": {
        "id": "MZMt2DqHE2__"
      }
    }
  ]
}